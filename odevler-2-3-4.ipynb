{
 "cells": [
  {
   "cell_type": "code",
   "execution_count": 2,
   "metadata": {},
   "outputs": [],
   "source": [
    "import numpy as np"
   ]
  },
  {
   "cell_type": "markdown",
   "metadata": {},
   "source": [
    "BAYES TEOREMİ\n",
    "\n",
    "Örnek: Bir araştırmaya göre her 43 çocuktan 1 tanesi, \n",
    "yetişkinlikte ortaya çıkan belli bir hastalığa yakalanmakta ve tam güvenilir \n",
    "olmamasına rağmen yapılan test sonuçlarına göre, hastalıklı bir çocuğun testi %80 pozitif, \n",
    "sağlıklı bir çocuğun testi ise %10 pozitif sonuç vermektedir. \n",
    "Bu bilgilere göre test sonucu pozitif olan bir çocuğun gerçekten hasta olma olasılığı nedir?\n",
    "\n",
    "P(A) Çocuğun hasta olma olasılığı = 1/43\n",
    "P(B) Testin pozitif çıkma olasılığı = 1/43 * 0.80 + 42/43 * 0.10 = 5/43\n",
    "P(A|B) Pozitif çıkan testin hasta çıkma olasılığı ??\n",
    "P(B|A) : Hastalıklı çocuğun testinin pozitif çıkma olasılığı = 0.80\n",
    "\n",
    "P(A|B) : P(B|A)*P(A)/P(B) = %16"
   ]
  },
  {
   "cell_type": "code",
   "execution_count": 3,
   "metadata": {},
   "outputs": [
    {
     "name": "stdout",
     "output_type": "stream",
     "text": [
      "0.16\n"
     ]
    }
   ],
   "source": [
    "\n",
    "pA = 1/43\n",
    "pB = 1/43 * 0.80 + 42/43 * 0.10\n",
    "pBA = 0.80\n",
    "pAB = pBA * pA / pB\n",
    "\n",
    "print(pAB)\n",
    "\n",
    "\n",
    "\n",
    "\n"
   ]
  },
  {
   "cell_type": "markdown",
   "metadata": {},
   "source": [
    "Koşullu Olasılık\n",
    "\n",
    "Soru: Bir zar atıldığında üste gelen sayının 2 den büyük olduğu bilindiğine göre, zarın üst yüzüne gelen sayının çift sayı olma olasılığı kaçtır?\n",
    "\n",
    "Çözüm:\n",
    "Örnek uzay E = {1,2,3,4,5,6}\n",
    "2 den büyük olma durumları = {3,4,5,6}\n",
    "Çift Sayı Gelme Durumları = {2,4,6}\n",
    "AnB = {4,6}\n",
    "P(B/A) = ((PnB)/P(A))/P(A) = 1/2"
   ]
  },
  {
   "cell_type": "code",
   "execution_count": 2,
   "metadata": {},
   "outputs": [
    {
     "name": "stdout",
     "output_type": "stream",
     "text": [
      "0.5\n"
     ]
    }
   ],
   "source": [
    "#ODEV4\n",
    "'''\n",
    "Bir zar atıldığında üste gelen sayının 2 den büyük olduğu bilindiğine göre, zarın üst yüzüne gelen sayının çift sayı olma olasılığı kaçtır?\n",
    "'''\n",
    "'''\n",
    "'''\n",
    "E = {1,2,3,4,5,6}\n",
    "ifBiggerThan2 = {3,4,5,6}\n",
    "ifEven = {2,4,6}\n",
    "AnB = ifBiggerThan2.intersection(ifEven)\n",
    "pBA = len(AnB)/len(ifBiggerThan2)\n",
    "print(pBA)\n"
   ]
  },
  {
   "cell_type": "code",
   "execution_count": 27,
   "metadata": {},
   "outputs": [
    {
     "name": "stdout",
     "output_type": "stream",
     "text": [
      "25.0%\n",
      "23.1%\n",
      "1.9%\n"
     ]
    }
   ],
   "source": [
    "#ODEV3\n",
    "def event_probability(event_outcomes, sample_space):\n",
    "    probability = (event_outcomes / sample_space) * 100\n",
    "    return round(probability, 1)\n",
    "\n",
    "# Örnek uzay\n",
    "cards = 52\n",
    "\n",
    "# Bir kalp çıkma olasılığını belirleyin\n",
    "hearts = 13\n",
    "heart_probability = event_probability(hearts, cards)\n",
    "\n",
    "# bir face kartının çıkma olasılığı\n",
    "face_cards = 12\n",
    "face_card_probability = event_probability(face_cards, cards)\n",
    "\n",
    "# Kupa Kraliçesinin olasılığı\n",
    "queen_of_hearts = 1\n",
    "queen_of_hearts_probability = event_probability(queen_of_hearts, cards)\n",
    "\n",
    "# Print each probability\n",
    "print(str(heart_probability) + '%')\n",
    "print(str(face_card_probability) + '%')\n",
    "print(str(queen_of_hearts_probability) + '%')"
   ]
  },
  {
   "cell_type": "code",
   "execution_count": 45,
   "metadata": {},
   "outputs": [
    {
     "name": "stdout",
     "output_type": "stream",
     "text": [
      "216\n"
     ]
    }
   ],
   "source": [
    "#permütasyon\n",
    "from itertools import permutations\n",
    "'''\n",
    "{1,2,3,4,5,6} kümesi ile 4 basamaklı kaç çift sayı yazılabilir?\n",
    "'''\n",
    "perm = permutations([1,2,3,4,5,6],4)\n",
    "\n",
    "evenSize = 0\n",
    "for i in perm:\n",
    "    if sum(i)%2 == 0:\n",
    "        evenSize += 1\n",
    "print(evenSize)\n"
   ]
  },
  {
   "cell_type": "code",
   "execution_count": 46,
   "metadata": {},
   "outputs": [
    {
     "name": "stdout",
     "output_type": "stream",
     "text": [
      "[(1, 2), (1, 3), (2, 3)]\n"
     ]
    }
   ],
   "source": [
    "#combinasyon\n",
    "from itertools import combinations\n",
    "'''\n",
    "{1,2,3} kümesi ile 3 basamaklı sayılar nedir?\n",
    "'''\n",
    "comb = combinations([1,2,3],2)\n",
    "print(list(comb))"
   ]
  },
  {
   "cell_type": "code",
   "execution_count": null,
   "metadata": {},
   "outputs": [],
   "source": []
  }
 ],
 "metadata": {
  "interpreter": {
   "hash": "31f2aee4e71d21fbe5cf8b01ff0e069b9275f58929596ceb00d14d90e3e16cd6"
  },
  "kernelspec": {
   "display_name": "Python 3.8.9 64-bit",
   "language": "python",
   "name": "python3"
  },
  "language_info": {
   "codemirror_mode": {
    "name": "ipython",
    "version": 3
   },
   "file_extension": ".py",
   "mimetype": "text/x-python",
   "name": "python",
   "nbconvert_exporter": "python",
   "pygments_lexer": "ipython3",
   "version": "3.8.9"
  },
  "orig_nbformat": 4
 },
 "nbformat": 4,
 "nbformat_minor": 2
}
