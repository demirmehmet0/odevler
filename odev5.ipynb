{
 "cells": [
  {
   "cell_type": "code",
   "execution_count": 2,
   "metadata": {},
   "outputs": [],
   "source": [
    "import numpy\n",
    "import math"
   ]
  },
  {
   "cell_type": "markdown",
   "metadata": {},
   "source": [
    "Belli bir ameliyatın başarılı sonuçlanması olasılığı %80’dir. Ameliyat edilen 10\n",
    "hastadan,\n",
    "\n",
    "a) 6’ sının iyileşmesi olasılığı nedir?\n",
    "\n",
    "b) En az 9’ unun iyileşmesi olasılığı nedir?    \n",
    "\n",
    "c) En fazla 7’ sinin iyileşmesi olasılığı nedir?\n",
    "\n",
    "d) Ameliyatı başarılı sonuçlanacak hastaların beklenen sayısını ve varyansını hesaplayınız.\n",
    "\n",
    "X: Ameliyat sonrası iyileşen hasta sayısı"
   ]
  },
  {
   "cell_type": "code",
   "execution_count": 11,
   "metadata": {},
   "outputs": [],
   "source": [
    "def calCombination(n, r):\n",
    "    return numpy.math.factorial(n) / (numpy.math.factorial(r) * numpy.math.factorial(n - r))\n",
    "\n",
    "def calProb(n, x, p):\n",
    "    return calCombination(n, x) * (p ** x) * ((1 - p) ** (n - x))\n",
    "\n",
    "totalX = 10\n",
    "n = 10\n",
    "p = 0.8"
   ]
  },
  {
   "cell_type": "markdown",
   "metadata": {},
   "source": [
    "![image info](./image.png)\n"
   ]
  },
  {
   "cell_type": "code",
   "execution_count": 12,
   "metadata": {},
   "outputs": [
    {
     "name": "stdout",
     "output_type": "stream",
     "text": [
      "result a:  0.08808038399999996\n"
     ]
    }
   ],
   "source": [
    "\n",
    "x = 6\n",
    "a = calProb(n, x, p)\n",
    "print(\"result a: \", a)\n"
   ]
  },
  {
   "cell_type": "code",
   "execution_count": 13,
   "metadata": {},
   "outputs": [
    {
     "name": "stdout",
     "output_type": "stream",
     "text": [
      "result b:  0.37580963840000015\n"
     ]
    }
   ],
   "source": [
    "# if x>=9 \n",
    "\n",
    "b = 0\n",
    "for i in range(9, totalX + 1):\n",
    "    b += calProb(n, i, p)\n",
    "print(\"result b: \", b)"
   ]
  },
  {
   "cell_type": "code",
   "execution_count": 14,
   "metadata": {},
   "outputs": [
    {
     "name": "stdout",
     "output_type": "stream",
     "text": [
      "result c:  0.32220047359999987\n"
     ]
    }
   ],
   "source": [
    "# if <= 7\n",
    "\n",
    "c = 0\n",
    "for i in range(0, 8):\n",
    "    c += calProb(n, i, p)\n",
    "print(\"result c: \", c)\n"
   ]
  },
  {
   "cell_type": "markdown",
   "metadata": {},
   "source": [
    "![image info](./image2.png)\n"
   ]
  },
  {
   "cell_type": "code",
   "execution_count": 18,
   "metadata": {},
   "outputs": [
    {
     "name": "stdout",
     "output_type": "stream",
     "text": [
      "result variance:  1.5999999999999996\n",
      "result populationMean:  8.0\n"
     ]
    }
   ],
   "source": [
    "# variance\n",
    "variance = totalX * p * (1 - p)\n",
    "print(\"result variance: \", variance)\n",
    "\n",
    "populationMean = totalX * p\n",
    "print(\"result populationMean: \", populationMean)"
   ]
  },
  {
   "cell_type": "code",
   "execution_count": null,
   "metadata": {},
   "outputs": [],
   "source": []
  }
 ],
 "metadata": {
  "interpreter": {
   "hash": "eb5036f3a95056b7568497e4118e59a2236b924ef663047601c1b4a991150989"
  },
  "kernelspec": {
   "display_name": "Python 3.9.7 ('base')",
   "language": "python",
   "name": "python3"
  },
  "language_info": {
   "codemirror_mode": {
    "name": "ipython",
    "version": 3
   },
   "file_extension": ".py",
   "mimetype": "text/x-python",
   "name": "python",
   "nbconvert_exporter": "python",
   "pygments_lexer": "ipython3",
   "version": "3.9.7"
  },
  "orig_nbformat": 4
 },
 "nbformat": 4,
 "nbformat_minor": 2
}
